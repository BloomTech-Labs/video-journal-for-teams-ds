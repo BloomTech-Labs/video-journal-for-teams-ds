{
 "cells": [
  {
   "cell_type": "markdown",
   "metadata": {
    "colab_type": "text",
    "id": "BFhh0E1b-WRE"
   },
   "source": [
    "# Notebook: DB SQL Queries for Web/Front-end Team"
   ]
  },
  {
   "cell_type": "markdown",
   "metadata": {
    "colab_type": "text",
    "id": "QM6Ojlrd-9O2"
   },
   "source": [
    "## **SQL Queries for TeamReel DB:**"
   ]
  },
  {
   "cell_type": "markdown",
   "metadata": {
    "colab_type": "text",
    "id": "Te3tfyGE_GQH"
   },
   "source": [
    "### *(Note: Replace {user_id} with the way you would feed a variable into a string SQL query in JavaScript -- the Python way won't work for JS.)*"
   ]
  },
  {
   "cell_type": "markdown",
   "metadata": {
    "colab_type": "text",
    "id": "uUjW_J0A-nYL"
   },
   "source": [
    "Get a User's: **Overall Performance Score:**"
   ]
  },
  {
   "cell_type": "code",
   "execution_count": null,
   "metadata": {
    "colab": {},
    "colab_type": "code",
    "id": "OEq0rS7H-l1w"
   },
   "outputs": [],
   "source": [
    "\"\"\"\n",
    "SELECT AVG(overall_performance)\n",
    "FROM (SELECT vf.overall_performance \n",
    "      FROM videos_feedback as vf, videos as vds \n",
    "      WHERE vf.video_id = vds.id \n",
    "      AND vds.owner_id = {user_id}  \n",
    "      ORDER BY vds.created_at DESC \n",
    "      LIMIT 3) \n",
    "      AS recent_performance;\n",
    "\"\"\""
   ]
  },
  {
   "cell_type": "markdown",
   "metadata": {
    "colab_type": "text",
    "id": "tIuuDloh-tUU"
   },
   "source": [
    "Get a User's: **Progress Over Time (Overall Performance Score Over Time):**"
   ]
  },
  {
   "cell_type": "code",
   "execution_count": null,
   "metadata": {
    "colab": {},
    "colab_type": "code",
    "id": "PRGV9_Ut-l7o"
   },
   "outputs": [],
   "source": [
    "\"\"\"\n",
    "SELECT * \n",
    "FROM (SELECT vds.created_at, vf.overall_performance \n",
    "      FROM videos_feedback as vf, videos as vds \n",
    "      WHERE vf.video_id = vds.id \n",
    "      AND vds.owner_id = 201  \n",
    "      ORDER BY vds.created_at DESC) \n",
    "      AS performance_breakdown\n",
    "\"\"\""
   ]
  },
  {
   "cell_type": "markdown",
   "metadata": {
    "colab_type": "text",
    "id": "mhmpyHHx-zYx"
   },
   "source": [
    "Get a User's: **Performance Breakdown (Scores in Each Sub-area for Front-end Charts):**"
   ]
  },
  {
   "cell_type": "code",
   "execution_count": null,
   "metadata": {
    "colab": {},
    "colab_type": "code",
    "id": "OCoSAfiz-lz1"
   },
   "outputs": [],
   "source": [
    "\"\"\"\n",
    "SELECT AVG(human_delivery_and_presentation) AS human_delivery_and_presentation, \n",
    "AVG(human_response_quality) AS human_response_quality, \n",
    "AVG(human_audio_quality) AS human_audio_quality, \n",
    "AVG(human_visual_environment) AS human_visual_environment, \n",
    "AVG(attitude) AS attitude, \n",
    "AVG(speaking_speed) AS speaking_speed, \n",
    "AVG(background_noise) AS background_noise, \n",
    "AVG(appearance_facial_centering) AS appearance_facial_centering\n",
    "FROM (SELECT vf.human_delivery_and_presentation, vf.human_response_quality, \n",
    "      vf.human_audio_quality, vf.human_visual_environment, vf.attitude, \n",
    "      vf.speaking_speed, vf.background_noise, vf.appearance_facial_centering, \n",
    "      vf.appearance_posture \n",
    "      FROM videos_feedback as vf, videos as vds \n",
    "      WHERE vf.video_id = vds.id \n",
    "      AND vds.owner_id = {user_id} \n",
    "      ORDER BY vds.created_at DESC \n",
    "      LIMIT 3) \n",
    "      AS performance_breakdown;\n",
    "\"\"\""
   ]
  },
  {
   "cell_type": "markdown",
   "metadata": {},
   "source": [
    " "
   ]
  },
  {
   "cell_type": "markdown",
   "metadata": {},
   "source": [
    "--------"
   ]
  },
  {
   "cell_type": "markdown",
   "metadata": {
    "colab_type": "text",
    "id": "wIm9KUwG-WSa"
   },
   "source": [
    "## **Examples Using Python: What the Above Queries Return:**"
   ]
  },
  {
   "cell_type": "code",
   "execution_count": null,
   "metadata": {
    "colab": {},
    "colab_type": "code",
    "id": "mttf8hM7-WSa"
   },
   "outputs": [],
   "source": [
    "# Get a User's: \n",
    "# Overall Performance Score (Query #1 above):\n",
    "\n",
    "def get_overall_performance_score(user_id:int):\n",
    "    query = f\"SELECT AVG(overall_performance) FROM (SELECT vf.overall_performance FROM videos_feedback as vf, videos as vds WHERE vf.video_id = vds.id AND vds.owner_id = {user_id} ORDER BY vds.created_at DESC LIMIT 3) AS recent_performance;\"\n",
    "    pg_cursor.execute(query)\n",
    "    results = pg_cursor.fetchall()[0][0]\n",
    "    if results == None:\n",
    "        return \"No results: this user has not uploaded any videos.\"\n",
    "    else:\n",
    "        return float(results)"
   ]
  },
  {
   "cell_type": "code",
   "execution_count": null,
   "metadata": {
    "colab": {},
    "colab_type": "code",
    "id": "h99G1rd5-WSc",
    "outputId": "2558516a-0bd2-4161-e0e3-ad0b86222fd4"
   },
   "outputs": [
    {
     "data": {
      "text/plain": [
       "2.0723333333333334"
      ]
     },
     "execution_count": 200,
     "metadata": {
      "tags": []
     },
     "output_type": "execute_result"
    }
   ],
   "source": [
    "get_overall_performance_score(user_id=201)"
   ]
  },
  {
   "cell_type": "code",
   "execution_count": null,
   "metadata": {
    "colab": {},
    "colab_type": "code",
    "id": "nPSMy3eq-WSe",
    "outputId": "a79c334f-8c43-459f-ad82-5a9b57543b6d"
   },
   "outputs": [
    {
     "data": {
      "text/plain": [
       "'No results: this user has not uploaded any videos.'"
      ]
     },
     "execution_count": 201,
     "metadata": {
      "tags": []
     },
     "output_type": "execute_result"
    }
   ],
   "source": [
    "get_overall_performance_score(user_id=154)"
   ]
  },
  {
   "cell_type": "code",
   "execution_count": null,
   "metadata": {
    "colab": {},
    "colab_type": "code",
    "id": "FIZLtHkC-WSg"
   },
   "outputs": [],
   "source": [
    "# Get a User's: \n",
    "# Progress Over Time (Overall Performance Score Over Time) (Query #2 above):\n",
    "\n",
    "def get_overall_performance_progress_time_series(user_id:int):\n",
    "    query = f\"SELECT * FROM (SELECT vds.created_at, vf.overall_performance FROM videos_feedback as vf, videos as vds WHERE vf.video_id = vds.id AND vds.owner_id = {user_id} ORDER BY vds.created_at DESC) AS performance_breakdown;\"\n",
    "    pg_cursor.execute(query)\n",
    "    results = pg_cursor.fetchall()\n",
    "    if results == []:\n",
    "        return \"No results: this user has not uploaded any videos.\"\n",
    "    else:\n",
    "        return results"
   ]
  },
  {
   "cell_type": "code",
   "execution_count": null,
   "metadata": {
    "colab": {},
    "colab_type": "code",
    "id": "TBk_QVHI-WSi",
    "outputId": "a6f5fa90-59c5-4dea-ebf9-e09f33d3297f"
   },
   "outputs": [
    {
     "data": {
      "text/plain": [
       "[(datetime.datetime(2020, 6, 11, 22, 0, 31, 719000, tzinfo=psycopg2.tz.FixedOffsetTimezone(offset=0, name=None)),\n",
       "  Decimal('0.507')),\n",
       " (datetime.datetime(2020, 6, 8, 21, 46, 43, 703000, tzinfo=psycopg2.tz.FixedOffsetTimezone(offset=0, name=None)),\n",
       "  Decimal('2.076')),\n",
       " (datetime.datetime(2020, 6, 8, 21, 46, 35, 33000, tzinfo=psycopg2.tz.FixedOffsetTimezone(offset=0, name=None)),\n",
       "  Decimal('3.634')),\n",
       " (datetime.datetime(2020, 6, 7, 22, 3, 1, 134000, tzinfo=psycopg2.tz.FixedOffsetTimezone(offset=0, name=None)),\n",
       "  Decimal('0.810')),\n",
       " (datetime.datetime(2020, 6, 6, 21, 53, 17, 385000, tzinfo=psycopg2.tz.FixedOffsetTimezone(offset=0, name=None)),\n",
       "  Decimal('4.327')),\n",
       " (datetime.datetime(2020, 6, 5, 21, 47, 50, 147000, tzinfo=psycopg2.tz.FixedOffsetTimezone(offset=0, name=None)),\n",
       "  Decimal('2.656'))]"
      ]
     },
     "execution_count": 203,
     "metadata": {
      "tags": []
     },
     "output_type": "execute_result"
    }
   ],
   "source": [
    "get_overall_performance_progress_time_series(user_id=201)"
   ]
  },
  {
   "cell_type": "code",
   "execution_count": null,
   "metadata": {
    "colab": {},
    "colab_type": "code",
    "id": "xaZLEC3e-WSk",
    "outputId": "99fd9a3d-c914-4962-e564-71717351d152"
   },
   "outputs": [
    {
     "data": {
      "text/plain": [
       "'No results: this user has not uploaded any videos.'"
      ]
     },
     "execution_count": 204,
     "metadata": {
      "tags": []
     },
     "output_type": "execute_result"
    }
   ],
   "source": [
    "get_overall_performance_progress_time_series(user_id=154)"
   ]
  },
  {
   "cell_type": "code",
   "execution_count": null,
   "metadata": {
    "colab": {},
    "colab_type": "code",
    "id": "nc-C5g-3-WSm"
   },
   "outputs": [],
   "source": [
    "# Get a User's: \n",
    "# Performance Breakdown (Scores in Each Sub-area for Front-end Charts) (Query #3 above):\n",
    "\n",
    "def get_breakdown_scores(user_id:int):\n",
    "    query = f\"SELECT AVG(human_delivery_and_presentation) AS human_delivery_and_presentation, AVG(human_response_quality) AS human_response_quality, AVG(human_audio_quality) AS human_audio_quality, AVG(human_visual_environment) AS human_visual_environment, AVG(attitude) AS attitude, AVG(speaking_speed) AS speaking_speed, AVG(background_noise) AS background_noise, AVG(appearance_facial_centering) AS appearance_facial_centering FROM (SELECT vf.human_delivery_and_presentation, vf.human_response_quality, vf.human_audio_quality, vf.human_visual_environment, vf.attitude, vf.speaking_speed, vf.background_noise, vf.appearance_facial_centering, vf.appearance_posture FROM videos_feedback as vf, videos as vds WHERE vf.video_id = vds.id AND vds.owner_id = {user_id}  ORDER BY vds.created_at DESC LIMIT 3) AS performance_breakdown;\"\n",
    "    pg_cursor.execute(query)\n",
    "    results = pg_cursor.fetchall()[0]\n",
    "    if None in results:\n",
    "        return [item for item in results]\n",
    "    else:\n",
    "        return [float(item) for item in results]"
   ]
  },
  {
   "cell_type": "code",
   "execution_count": null,
   "metadata": {
    "colab": {},
    "colab_type": "code",
    "id": "tT93HGOs-WSo",
    "outputId": "a28b6a40-3655-48ff-c37d-07f35cf29483"
   },
   "outputs": [
    {
     "data": {
      "text/plain": [
       "[2.7333333333333334,\n",
       " 3.2666666666666666,\n",
       " 2.3333333333333335,\n",
       " 2.6,\n",
       " 2.0456666666666665,\n",
       " 2.737,\n",
       " 2.029,\n",
       " 3.451]"
      ]
     },
     "execution_count": 206,
     "metadata": {
      "tags": []
     },
     "output_type": "execute_result"
    }
   ],
   "source": [
    "get_breakdown_scores(user_id=201)"
   ]
  },
  {
   "cell_type": "code",
   "execution_count": null,
   "metadata": {
    "colab": {},
    "colab_type": "code",
    "id": "4EJXYR_a-WSr",
    "outputId": "e5149ff9-7ca7-4aa6-f9a7-3327565be310"
   },
   "outputs": [
    {
     "data": {
      "text/plain": [
       "[None, None, None, None, None, None, None, None]"
      ]
     },
     "execution_count": 207,
     "metadata": {
      "tags": []
     },
     "output_type": "execute_result"
    }
   ],
   "source": [
    "get_breakdown_scores(user_id=154)"
   ]
  }
 ],
 "metadata": {
  "colab": {
   "collapsed_sections": [],
   "name": "DB SQL Queries for Web/Front-end.ipynb",
   "provenance": []
  },
  "kernelspec": {
   "display_name": "Python 3",
   "language": "python",
   "name": "python3"
  },
  "language_info": {
   "codemirror_mode": {
    "name": "ipython",
    "version": 3
   },
   "file_extension": ".py",
   "mimetype": "text/x-python",
   "name": "python",
   "nbconvert_exporter": "python",
   "pygments_lexer": "ipython3",
   "version": "3.7.6"
  }
 },
 "nbformat": 4,
 "nbformat_minor": 4
}
