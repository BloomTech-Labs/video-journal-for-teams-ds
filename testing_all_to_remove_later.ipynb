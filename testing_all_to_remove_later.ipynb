{
 "cells": [
  {
   "cell_type": "markdown",
   "metadata": {
    "colab_type": "text",
    "id": "LJxUvLu_Pb-i"
   },
   "source": [
    "## **Team Reel Master Function -- Draft Working Version:**\n",
    "\n",
    "- Python module that goes in parent directory (as .py file)\n",
    "- runs when any new video or feedback is added (triggered by message in SQS queue for new video --> AWS Lambda function --> calls this function via API endpoint)\n",
    "- calls all other TeamReel functions (ML ones by us) + gets human feedback from DB\n",
    "- Adds video analysis (all of the above) to the video_feedback table in the DB"
   ]
  },
  {
   "cell_type": "code",
   "execution_count": 13,
   "metadata": {
    "colab": {},
    "colab_type": "code",
    "id": "yUtNCmc_OE9U"
   },
   "outputs": [],
   "source": [
    "# Import modules/libraries we will use:\n",
    "\n",
    "# Import external/third-party libraries we will use:\n",
    "from dotenv import load_dotenv\n",
    "import json\n",
    "import numpy as np\n",
    "import os\n",
    "import psycopg2\n",
    "\n",
    "# Import internal functions we need for TeamReel data infra, video and DB:\n",
    "from data_infra.data_pipelines import get_next_video\n",
    "from data_infra.postgresql_db_functions import get_feedback_for_user\n",
    "from data_infra.postgresql_db_functions import get_feedback_for_video, get_video_info\n",
    "\n",
    "# from audio_analysis.audio_functions import get_audio_from_video, get_transcript_from_audio, get_audio_sentiment_analysis, get_speed_of_speech, get_text_sentiment\n",
    "# from audio_analysis.audio_functions import analyse_audio, remove_files\n",
    "\n",
    "# Import functions we need from facial_analysis package\n",
    "\n",
    "# Import functions we need from audio_analysis.background_noise module\n",
    "\n",
    "\n",
    "# ----------------------------------------------------------------------------\n",
    "# SETUP:\n",
    "\n",
    "# Get access info from .env file:\n",
    "load_dotenv()\n",
    "\n",
    "# PostgreSQL DB info:\n",
    "PG_DB_HOST = os.getenv(\"PG_DB_HOST\")\n",
    "PG_DB_PORT = os.getenv(\"PG_DB_PORT\")\n",
    "PG_DB_NAME = os.getenv(\"PG_DB_NAME\")\n",
    "PG_DB_USER = os.getenv(\"PG_DB_USER\")\n",
    "PG_DB_PW = os.getenv(\"PG_DB_PW\")\n",
    "PG_DB_URI = os.getenv(\"PG_DB_URI\")\n",
    "\n",
    "# Open a connection to our PostgreSQL DB:\n",
    "pg_conn = psycopg2.connect(\n",
    "    host = PG_DB_HOST,\n",
    "    port = PG_DB_PORT,\n",
    "    database = PG_DB_NAME,\n",
    "    user = PG_DB_USER,\n",
    "    password = PG_DB_PW\n",
    ")\n",
    "\n",
    "# Instantiate a cursor using this connection:\n",
    "pg_cursor = pg_conn.cursor()\n",
    "\n",
    "\n",
    "# ----------------------------------------------------------------------------\n"
   ]
  },
  {
   "cell_type": "code",
   "execution_count": null,
   "metadata": {},
   "outputs": [],
   "source": []
  },
  {
   "cell_type": "code",
   "execution_count": null,
   "metadata": {},
   "outputs": [],
   "source": []
  },
  {
   "cell_type": "code",
   "execution_count": null,
   "metadata": {},
   "outputs": [],
   "source": [
    "# GET BASE MATERIALS: VIDEO, AUDIO, TRANSCRIPT:\n",
    "\n",
    "# Get next video in line for analysis (recently uploaded by a user):\n",
    "# (1) video_feedback dict = info about that video from our DB (video_id, etc.)\n",
    "# (2) download .MP4 video file to project directory\n",
    "video_feedback = get_next_video()\n",
    "\n",
    "try:\n",
    "    video_s3_key = video_info['video']['s3_key']\n",
    "    video_filename = video_info['video']['s3_filename']\n",
    "except KeyError:\n",
    "    \"KeyError: There is no information about this video in our database.\"\n",
    "\n",
    "# Get audio from the video file:\n",
    "get_audio_from_video(video_file=video_s3_filename)\n",
    "audio_filename = 'audio.wav'\n",
    "\n",
    "# ----------------------------------------------------------------------------\n",
    "# SENTIMENT: AUDIO:\n",
    "\n",
    "# Directory paths \n",
    "dirname = r\"audio_chunks/\"\n",
    "path = r\"text_chunks/\"\n",
    "\n",
    "# analyse_audio() function is the one function that does both: audio-sentiment analysis,\n",
    "# and gets number of words per minute\n",
    "data = analyse_audio() \n",
    "\n",
    "# Get the filename of the transcript\n",
    "transcript_filename = 'outputfile.txt'\n",
    "# Get the text in the transcript as a string\n",
    "transcript_string = open(transcript_filename).read().replace(\"\\n\", \" \")\n",
    "\n",
    "\n",
    "# Add audio sentiment score to our video_feedback dict: \n",
    "video_feedback['sentiment_audio'] = data[0]['positive'] + data[0]['neutral'] # need to do some analysis and output 1 audio sentiment score\n",
    "video_feedback['sentiment_audio_details'] = json.dumps(data[0])\n",
    "\n",
    "# ----------------------------------------------------------------------------\n",
    "# SPEED OF SPEECH: \n",
    "\n",
    "video_feedback['speaking_speed'] = round(data[2])\n",
    "\n",
    "\n",
    "# ----------------------------------------------------------------------------\n",
    "# SENTIMENT: VISUAL:\n",
    "\n",
    "# [To add:] Facial centering: Call Chris Huskey's master function and get results\n",
    "visual_sentiment_results = [To add]\n",
    "\n",
    "# Add visual sentiment score to our video_feedback dict: \n",
    "video_feedback['sentiment_visual'] = ?? # need to do some analysis and output 1 visual sentiment score\n",
    "video_feedback['sentiment_visual_details'] = visual_sentiment_results\n",
    "\n",
    "# ----------------------------------------------------------------------------\n",
    "# BACKGROUND NOISE:\n",
    "\n",
    "# [To add:] Background noise: Call Chris Howell's master function and get results\n",
    "# add to our video_feedback dict: video_feedback['']\n",
    "\n",
    "# ----------------------------------------------------------------------------\n",
    "# ADD VIDEO ANALYSIS RESULTS TO DB:\n",
    "\n",
    "# [To add:] Add all of the above info for this video to the videos_feedback table in our DB\n",
    "\n",
    "# pseudocode:\n",
    "# if [video is in the video_feedback table already]:\n",
    "#   Update info in the videos_feedback table\n",
    "# else:\n",
    "#   Add info to the video feedback table\n",
    "\n",
    "# ----------------------------------------------------------------------------\n",
    "\n",
    "# To add: Make Plotly visualizations so Web can display them super easily?\n",
    "\n",
    "# ----------------------------------------------------------------------------\n",
    "# REMOVE STORED FILES:\n",
    "\n",
    "# To add: Remove local files (video, audio, transcript, audio chunks, (text chunks?))\n"
   ]
  },
  {
   "cell_type": "code",
   "execution_count": null,
   "metadata": {},
   "outputs": [],
   "source": []
  },
  {
   "cell_type": "code",
   "execution_count": null,
   "metadata": {},
   "outputs": [],
   "source": []
  },
  {
   "cell_type": "code",
   "execution_count": null,
   "metadata": {},
   "outputs": [],
   "source": []
  },
  {
   "cell_type": "code",
   "execution_count": null,
   "metadata": {},
   "outputs": [],
   "source": []
  },
  {
   "cell_type": "code",
   "execution_count": null,
   "metadata": {},
   "outputs": [],
   "source": []
  },
  {
   "cell_type": "code",
   "execution_count": null,
   "metadata": {},
   "outputs": [],
   "source": []
  },
  {
   "cell_type": "code",
   "execution_count": null,
   "metadata": {
    "colab": {},
    "colab_type": "code",
    "id": "DJYR4JnpXYiE"
   },
   "outputs": [],
   "source": [
    "# {'video': {'video_id': 134,\n",
    "#   'title': 'Kyla Oyamot',\n",
    "#   's3_key': 'videos/ALPACAVID-i7swK-Wzc.webm',\n",
    "#   's3_filename': 'ALPACAVID-i7swK-Wzc.webm',\n",
    "#   'created_at': datetime.datetime(2020, 5, 5, 16, 22, 56, 852000, tzinfo=psycopg2.tz.FixedOffsetTimezone(offset=0, name=None)),\n",
    "#   'updated_at': datetime.datetime(2020, 5, 5, 16, 22, 56, 852000, tzinfo=psycopg2.tz.FixedOffsetTimezone(offset=0, name=None))},\n",
    "#  'prompt': {'prompt_id': 65,\n",
    "#   'question': 'What is your first impression of Labs'},\n",
    "#  'user': {'user_id': 185,\n",
    "#   'first_name': 'Kyla',\n",
    "#   'last_name': 'O',\n",
    "#   'name': 'Kyla O',\n",
    "#   'username': 'kylao'}}"
   ]
  },
  {
   "cell_type": "code",
   "execution_count": null,
   "metadata": {
    "colab": {},
    "colab_type": "code",
    "id": "gYLbu1nQYN8Z"
   },
   "outputs": [],
   "source": []
  },
  {
   "cell_type": "code",
   "execution_count": null,
   "metadata": {
    "colab": {},
    "colab_type": "code",
    "id": "mG0K1wwEXYk2"
   },
   "outputs": [],
   "source": []
  },
  {
   "cell_type": "code",
   "execution_count": null,
   "metadata": {
    "colab": {},
    "colab_type": "code",
    "id": "eWFIkROpaJWn"
   },
   "outputs": [],
   "source": []
  },
  {
   "cell_type": "code",
   "execution_count": null,
   "metadata": {},
   "outputs": [],
   "source": []
  },
  {
   "cell_type": "code",
   "execution_count": null,
   "metadata": {},
   "outputs": [],
   "source": []
  },
  {
   "cell_type": "code",
   "execution_count": null,
   "metadata": {},
   "outputs": [],
   "source": []
  },
  {
   "cell_type": "code",
   "execution_count": 12,
   "metadata": {},
   "outputs": [],
   "source": [
    "# # Close the cursor:\n",
    "# pg_cursor.close()\n",
    "\n",
    "# # Close the connection:\n",
    "# pg_conn.close()"
   ]
  },
  {
   "cell_type": "code",
   "execution_count": 50,
   "metadata": {},
   "outputs": [],
   "source": []
  },
  {
   "cell_type": "code",
   "execution_count": null,
   "metadata": {},
   "outputs": [],
   "source": []
  },
  {
   "cell_type": "code",
   "execution_count": null,
   "metadata": {},
   "outputs": [],
   "source": []
  },
  {
   "cell_type": "code",
   "execution_count": null,
   "metadata": {
    "colab": {},
    "colab_type": "code",
    "id": "svEMIPaWaJZv"
   },
   "outputs": [],
   "source": []
  },
  {
   "cell_type": "code",
   "execution_count": null,
   "metadata": {
    "colab": {},
    "colab_type": "code",
    "id": "javZT17PaJdt"
   },
   "outputs": [],
   "source": [
    "# id SERIAL PRIMARY KEY, \n",
    "# FOREIGN KEY (video_id) NOT NULL REFERENCES videos (id), \n",
    "# FOREIGN KEY (video_url) NOT NULL REFERENCES videos (video_url), \n",
    "\n",
    "# overall_performance NUMERIC, \n",
    "\n",
    "# sentiment_visual NUMERIC, \n",
    "# sentiment_visual_details JSONB, \n",
    "# sentiment_audio NUMERIC, \n",
    "# sentiment_audio_details JSONB, \n",
    "# sentiment_smile_frequency NUMERIC, \n",
    "\n",
    "# speaking_vocabulary NUMERIC, \n",
    "# speaking_speed NUMERIC, \n",
    "\n",
    "# background_noise NUMERIC, \n",
    "\n",
    "# appearance_facial_centering NUMERIC, \n",
    "\n",
    "# human_overall_performance NUMERIC, \n",
    "# human_delivery_and_presentation NUMERIC, \n",
    "# human_response_quality NUMERIC, \n",
    "# human_audio_quality NUMERIC, \n",
    "# human_visual_environment NUMERIC"
   ]
  },
  {
   "cell_type": "code",
   "execution_count": null,
   "metadata": {
    "colab": {},
    "colab_type": "code",
    "id": "_H5aGuJDbB-Z"
   },
   "outputs": [],
   "source": [
    "# - human score: overall rating\n",
    "# - human score: delivery and presentation\n",
    "# - human score: response quality\n",
    "# - human score: audio quality\n",
    "# - human score: visual environment\n",
    "# - ML score: attitude\n",
    "# - ML score: speaking speed\n",
    "# - ML score: background noise\n",
    "# - ML score: facial centering and posture"
   ]
  },
  {
   "cell_type": "code",
   "execution_count": null,
   "metadata": {},
   "outputs": [],
   "source": []
  },
  {
   "cell_type": "code",
   "execution_count": null,
   "metadata": {},
   "outputs": [],
   "source": []
  },
  {
   "cell_type": "code",
   "execution_count": null,
   "metadata": {},
   "outputs": [],
   "source": []
  },
  {
   "cell_type": "code",
   "execution_count": null,
   "metadata": {},
   "outputs": [],
   "source": []
  },
  {
   "cell_type": "code",
   "execution_count": null,
   "metadata": {},
   "outputs": [],
   "source": []
  },
  {
   "cell_type": "code",
   "execution_count": 6,
   "metadata": {},
   "outputs": [],
   "source": [
    "import datetime\n",
    "import numpy as np\n",
    "import pandas as pd"
   ]
  },
  {
   "cell_type": "code",
   "execution_count": 138,
   "metadata": {},
   "outputs": [],
   "source": [
    "video_analysis = {'video': {'video_id': 162, 'title': 'DS testing 001', 's3_key': 'videos/ALPACAVID-Ut18n8aEt.mp4', 's3_filename': 'ALPACAVID-Ut18n8aEt.mp4', 'created_at': datetime.datetime(2020, 6, 8, 21, 46, 43, 703000, tzinfo=psycopg2.tz.FixedOffsetTimezone(offset=0, name=None)), 'updated_at': datetime.datetime(2020, 6, 8, 21, 46, 43, 703000, tzinfo=psycopg2.tz.FixedOffsetTimezone(offset=0, name=None))}, 'prompt': {'prompt_id': 85, 'question': 'tell me '}, 'user': {'user_id': 201, 'first_name': 'Christopher', 'last_name': 'Huskey', 'name': 'Christopher Huskey', 'username': 'chrishuskey'}, 'video_analysis': {'sentiment_visual': 0.6382284265482008, 'sentiment_visual_details': '{\"emotions\": {\"sad\": 0.4816375482887931, \"calm\": 0.8443668165181737, \"fear\": 0.9012952623858596, \"angry\": 0.031246441854258622, \"happy\": 0.45286566659565175, \"confused\": 0.163269892703233, \"disgusted\": 0.9995419575080721, \"surprised\": 0.7591465415994776}}', 'sentiment_audio': 0.9767861915758042, 'sentiment_audio_details': '{\"positive\": 0.75, \"negative\": 0.25}', 'speaking_speed': 96.55937846836848, 'background_noise': 3.1992346762511388, 'appearance_facial_centering': 3.935142172100987}}"
   ]
  },
  {
   "cell_type": "code",
   "execution_count": 139,
   "metadata": {},
   "outputs": [
    {
     "data": {
      "text/plain": [
       "dict_keys(['video', 'prompt', 'user', 'video_analysis'])"
      ]
     },
     "execution_count": 139,
     "metadata": {},
     "output_type": "execute_result"
    }
   ],
   "source": [
    "video_analysis.keys()"
   ]
  },
  {
   "cell_type": "code",
   "execution_count": 140,
   "metadata": {},
   "outputs": [
    {
     "data": {
      "text/plain": [
       "{'video': {'video_id': 162,\n",
       "  'title': 'DS testing 001',\n",
       "  's3_key': 'videos/ALPACAVID-Ut18n8aEt.mp4',\n",
       "  's3_filename': 'ALPACAVID-Ut18n8aEt.mp4',\n",
       "  'created_at': datetime.datetime(2020, 6, 8, 21, 46, 43, 703000, tzinfo=psycopg2.tz.FixedOffsetTimezone(offset=0, name=None)),\n",
       "  'updated_at': datetime.datetime(2020, 6, 8, 21, 46, 43, 703000, tzinfo=psycopg2.tz.FixedOffsetTimezone(offset=0, name=None))},\n",
       " 'prompt': {'prompt_id': 85, 'question': 'tell me '},\n",
       " 'user': {'user_id': 201,\n",
       "  'first_name': 'Christopher',\n",
       "  'last_name': 'Huskey',\n",
       "  'name': 'Christopher Huskey',\n",
       "  'username': 'chrishuskey'},\n",
       " 'video_analysis': {'sentiment_visual': 0.6382284265482008,\n",
       "  'sentiment_visual_details': '{\"emotions\": {\"sad\": 0.4816375482887931, \"calm\": 0.8443668165181737, \"fear\": 0.9012952623858596, \"angry\": 0.031246441854258622, \"happy\": 0.45286566659565175, \"confused\": 0.163269892703233, \"disgusted\": 0.9995419575080721, \"surprised\": 0.7591465415994776}}',\n",
       "  'sentiment_audio': 0.9767861915758042,\n",
       "  'sentiment_audio_details': '{\"positive\": 0.75, \"negative\": 0.25}',\n",
       "  'speaking_speed': 96.55937846836848,\n",
       "  'background_noise': 3.1992346762511388,\n",
       "  'appearance_facial_centering': 3.935142172100987}}"
      ]
     },
     "execution_count": 140,
     "metadata": {},
     "output_type": "execute_result"
    }
   ],
   "source": [
    "video_analysis"
   ]
  },
  {
   "cell_type": "code",
   "execution_count": 141,
   "metadata": {},
   "outputs": [
    {
     "data": {
      "text/plain": [
       "'videos/ALPACAVID-Ut18n8aEt.mp4'"
      ]
     },
     "execution_count": 141,
     "metadata": {},
     "output_type": "execute_result"
    }
   ],
   "source": [
    "video_s3_key = video_analysis['video']['s3_key']\n",
    "video_s3_key"
   ]
  },
  {
   "cell_type": "code",
   "execution_count": 142,
   "metadata": {},
   "outputs": [
    {
     "data": {
      "text/plain": [
       "162"
      ]
     },
     "execution_count": 142,
     "metadata": {},
     "output_type": "execute_result"
    }
   ],
   "source": [
    "video_id = video_analysis['video']['video_id']\n",
    "video_id"
   ]
  },
  {
   "cell_type": "code",
   "execution_count": 143,
   "metadata": {},
   "outputs": [
    {
     "data": {
      "text/plain": [
       "'ALPACAVID-Ut18n8aEt.mp4'"
      ]
     },
     "execution_count": 143,
     "metadata": {},
     "output_type": "execute_result"
    }
   ],
   "source": [
    "video_filename = video_analysis['video']['s3_filename']\n",
    "video_filename"
   ]
  },
  {
   "cell_type": "code",
   "execution_count": 144,
   "metadata": {},
   "outputs": [
    {
     "data": {
      "text/html": [
       "<div>\n",
       "<style scoped>\n",
       "    .dataframe tbody tr th:only-of-type {\n",
       "        vertical-align: middle;\n",
       "    }\n",
       "\n",
       "    .dataframe tbody tr th {\n",
       "        vertical-align: top;\n",
       "    }\n",
       "\n",
       "    .dataframe thead th {\n",
       "        text-align: right;\n",
       "    }\n",
       "</style>\n",
       "<table border=\"1\" class=\"dataframe\">\n",
       "  <thead>\n",
       "    <tr style=\"text-align: right;\">\n",
       "      <th></th>\n",
       "      <th>id</th>\n",
       "      <th>video_id</th>\n",
       "      <th>overall_performance</th>\n",
       "      <th>delivery_and_presentation</th>\n",
       "      <th>response_quality</th>\n",
       "      <th>audio_quality</th>\n",
       "      <th>visual_environment</th>\n",
       "      <th>attitude</th>\n",
       "      <th>sentiment_visual</th>\n",
       "      <th>sentiment_visual_details</th>\n",
       "      <th>...</th>\n",
       "      <th>background_visual_environment</th>\n",
       "      <th>background_noise</th>\n",
       "      <th>appearance_facial_centering</th>\n",
       "      <th>appearance_posture</th>\n",
       "      <th>appearance_gesticulation</th>\n",
       "      <th>human_overall_performance</th>\n",
       "      <th>human_delivery_and_presentation</th>\n",
       "      <th>human_response_quality</th>\n",
       "      <th>human_audio_quality</th>\n",
       "      <th>human_visual_environment</th>\n",
       "    </tr>\n",
       "  </thead>\n",
       "  <tbody>\n",
       "    <tr>\n",
       "      <th>0</th>\n",
       "      <td>22</td>\n",
       "      <td>162</td>\n",
       "      <td>2.076</td>\n",
       "      <td>4.308</td>\n",
       "      <td>0.368</td>\n",
       "      <td>0.915</td>\n",
       "      <td>3.942</td>\n",
       "      <td>1.391</td>\n",
       "      <td>3.483</td>\n",
       "      <td>{'emotions': {'sad': 0.14275693208309037, 'cal...</td>\n",
       "      <td>...</td>\n",
       "      <td>0.000</td>\n",
       "      <td>1.351</td>\n",
       "      <td>3.434</td>\n",
       "      <td>0.000</td>\n",
       "      <td>0.000</td>\n",
       "      <td>3.400</td>\n",
       "      <td>3.000</td>\n",
       "      <td>3.200</td>\n",
       "      <td>2.800</td>\n",
       "      <td>2.200</td>\n",
       "    </tr>\n",
       "  </tbody>\n",
       "</table>\n",
       "<p>1 rows × 27 columns</p>\n",
       "</div>"
      ],
      "text/plain": [
       "   id  video_id overall_performance delivery_and_presentation  \\\n",
       "0  22       162               2.076                     4.308   \n",
       "\n",
       "  response_quality audio_quality visual_environment attitude sentiment_visual  \\\n",
       "0            0.368         0.915              3.942    1.391            3.483   \n",
       "\n",
       "                            sentiment_visual_details  ...  \\\n",
       "0  {'emotions': {'sad': 0.14275693208309037, 'cal...  ...   \n",
       "\n",
       "  background_visual_environment background_noise appearance_facial_centering  \\\n",
       "0                         0.000            1.351                       3.434   \n",
       "\n",
       "  appearance_posture appearance_gesticulation human_overall_performance  \\\n",
       "0              0.000                    0.000                     3.400   \n",
       "\n",
       "  human_delivery_and_presentation human_response_quality human_audio_quality  \\\n",
       "0                           3.000                  3.200               2.800   \n",
       "\n",
       "  human_visual_environment  \n",
       "0                    2.200  \n",
       "\n",
       "[1 rows x 27 columns]"
      ]
     },
     "execution_count": 144,
     "metadata": {},
     "output_type": "execute_result"
    }
   ],
   "source": [
    "query = f\"SELECT * FROM videos_feedback WHERE video_id = {video_id}\"\n",
    "pg_cursor.execute(query)\n",
    "results = pg_cursor.fetchall()\n",
    "column_names = [column_name[0] for column_name in pg_cursor.description]\n",
    "feedback_dataframe = pd.DataFrame(data=results, columns=column_names)\n",
    "feedback_dataframe"
   ]
  },
  {
   "cell_type": "code",
   "execution_count": 145,
   "metadata": {},
   "outputs": [],
   "source": [
    "# IF EXISTS (SELECT 1 FROM videos_feedback WHERE video_id = 164) \n",
    "# \tBEGIN\n",
    "# \t\tSELECT * FROM videos_feedback WHERE video_id = 164\n",
    "# \tEND\n",
    "\n",
    "# ELSE\n",
    "# \tBEGIN\n",
    "# \t\tSELECT * FROM videos_feedback WHERE video_id = 201\n",
    "# \tEND"
   ]
  },
  {
   "cell_type": "code",
   "execution_count": 146,
   "metadata": {},
   "outputs": [],
   "source": [
    "# video_id = 164\n",
    "# # video_id = 201"
   ]
  },
  {
   "cell_type": "code",
   "execution_count": 147,
   "metadata": {},
   "outputs": [],
   "source": [
    "# SENTIMENT ANALYSIS:\n",
    "\n",
    "# VISUAL SENTIMENT:\n",
    "\n",
    "# [?? To add: Facial centering: Call Chris Huskey's master function and get results ??]\n",
    "# visual_sentiment_results = [?? To add ??]\n",
    "\n",
    "# Values for our DB videos_feedback table:\n",
    "sentiment_visual = np.random.uniform(0, 5)  # [?? To do: REMOVE this ??]\n",
    "sentiment_visual_details_fake = {\n",
    "    \"emotions\": {\n",
    "        \"sad\": 0.4816375482887931,\n",
    "        \"calm\": 0.8443668165181737,\n",
    "        \"fear\": 0.9012952623858596,\n",
    "        \"angry\": 0.031246441854258622,\n",
    "        \"happy\": 0.45286566659565175,\n",
    "        \"confused\": 0.163269892703233,\n",
    "        \"disgusted\": 0.9995419575080721,\n",
    "        \"surprised\": 0.7591465415994776\n",
    "    }\n",
    "}\n",
    "sentiment_visual_details = json.dumps(sentiment_visual_details_fake)\n",
    "\n",
    "# AUDIO AND TEXT SENTIMENT:\n",
    "\n",
    "# audio_sentiment = get_audio_sentiment_analysis(audio_filename=audio_filename)\n",
    "# text_sentiment = get_text_sentiment(file=transcript_filename)\n",
    "\n",
    "# Values for our DB videos_feedback table:\n",
    "sentiment_audio = np.random.uniform(0, 5)  # [?? To do: REMOVE this ??]\n",
    "sentiment_audio_details_fake = {\"neutral\": 0.8840937553392264, \n",
    "                                 \"negative\": 0.6134209574862143, \n",
    "                                 \"positive\": 0.10086583590753595}\n",
    "sentiment_audio_details = json.dumps(sentiment_audio_details_fake)\n",
    "\n",
    "\n",
    "# ----------------------------------------------------------------------------\n",
    "# SPEAKING SPEED:\n",
    "\n",
    "# speaking_speed = get_speed_of_speech(transcript_filename=transcript_filename,\n",
    "#                                       audio_filename=audio_filename)\n",
    "\n",
    "# Values for our DB videos_feedback table:\n",
    "speaking_speed = np.random.uniform(0, 5)  # [?? To do: REMOVE this ??]\n",
    "\n",
    "\n",
    "# ----------------------------------------------------------------------------\n",
    "# BACKGROUND NOISE:\n",
    "\n",
    "# [To add:] Background noise: Call Chris Howell's master function and get results\n",
    "# background_noise_score = [?? To add ??]\n",
    "\n",
    "# Values for our DB videos_feedback table:\n",
    "background_noise = np.random.uniform(0, 5)  # [?? To do: REMOVE this ??]\n",
    "\n",
    "\n",
    "# ----------------------------------------------------------------------------\n",
    "# APPEARANCE: FACIAL CENTERING:\n",
    "\n",
    "# [To add:] Facial alignment and centering: Call Chris Huskey's master function\n",
    "# and get results\n",
    "# appearance_facial_centering = [?? To add ??]\n",
    "\n",
    "# Values for our DB videos_feedback table:\n",
    "appearance_facial_centering = np.random.uniform(0, 5)  # [?? To do: REMOVE this ??]"
   ]
  },
  {
   "cell_type": "code",
   "execution_count": 148,
   "metadata": {},
   "outputs": [],
   "source": [
    "# HUMAN FEEDBACK:\n",
    "\n",
    "# Get all human feedback on this video from our DB:\n",
    "human_feedback_for_video = get_feedback_for_video(video_id=video_id)\n",
    "\n",
    "# If there is no human feedback for this video yet, set all human feedback items to 0 in our DB\n",
    "# (in our DB, 0 indicates no value yet):\n",
    "if human_feedback_for_video.shape[0] < 1:\n",
    "    human_overall_performance = 0\n",
    "    human_delivery_and_presentation = 0\n",
    "    human_response_quality = 0\n",
    "    human_audio_quality = 0\n",
    "    human_visual_environment = 0\n",
    "\n",
    "# If there is human feedback for this user, get the average ratings:\n",
    "else:\n",
    "    human_overall_performance = human_feedback_for_video['overall_performance'].mean()\n",
    "    human_delivery_and_presentation = human_feedback_for_video['delivery_and_presentation'].mean()\n",
    "    human_response_quality = human_feedback_for_video['response_quality'].mean()\n",
    "    human_audio_quality = human_feedback_for_video['audio_quality'].mean()\n",
    "    human_visual_environment = human_feedback_for_video['visual_environment'].mean()"
   ]
  },
  {
   "cell_type": "code",
   "execution_count": 149,
   "metadata": {},
   "outputs": [
    {
     "data": {
      "text/html": [
       "<div>\n",
       "<style scoped>\n",
       "    .dataframe tbody tr th:only-of-type {\n",
       "        vertical-align: middle;\n",
       "    }\n",
       "\n",
       "    .dataframe tbody tr th {\n",
       "        vertical-align: top;\n",
       "    }\n",
       "\n",
       "    .dataframe thead th {\n",
       "        text-align: right;\n",
       "    }\n",
       "</style>\n",
       "<table border=\"1\" class=\"dataframe\">\n",
       "  <thead>\n",
       "    <tr style=\"text-align: right;\">\n",
       "      <th></th>\n",
       "      <th>id</th>\n",
       "      <th>post</th>\n",
       "      <th>video_id</th>\n",
       "      <th>owner_id</th>\n",
       "      <th>created_at</th>\n",
       "      <th>updated_at</th>\n",
       "      <th>viewed</th>\n",
       "      <th>overall_performance</th>\n",
       "      <th>delivery_and_presentation</th>\n",
       "      <th>response_quality</th>\n",
       "      <th>audio_quality</th>\n",
       "      <th>visual_environment</th>\n",
       "    </tr>\n",
       "  </thead>\n",
       "  <tbody>\n",
       "    <tr>\n",
       "      <th>0</th>\n",
       "      <td>202</td>\n",
       "      <td>Great -- no comments!</td>\n",
       "      <td>162</td>\n",
       "      <td>216</td>\n",
       "      <td>2020-06-07 23:01:14.616412+00:00</td>\n",
       "      <td>2020-06-07 23:01:14.616412+00:00</td>\n",
       "      <td>False</td>\n",
       "      <td>3</td>\n",
       "      <td>4</td>\n",
       "      <td>2</td>\n",
       "      <td>3</td>\n",
       "      <td>2</td>\n",
       "    </tr>\n",
       "    <tr>\n",
       "      <th>1</th>\n",
       "      <td>203</td>\n",
       "      <td>Great -- no comments!</td>\n",
       "      <td>162</td>\n",
       "      <td>227</td>\n",
       "      <td>2020-06-10 23:01:14.616412+00:00</td>\n",
       "      <td>2020-06-10 23:01:14.616412+00:00</td>\n",
       "      <td>False</td>\n",
       "      <td>4</td>\n",
       "      <td>4</td>\n",
       "      <td>4</td>\n",
       "      <td>3</td>\n",
       "      <td>2</td>\n",
       "    </tr>\n",
       "    <tr>\n",
       "      <th>2</th>\n",
       "      <td>205</td>\n",
       "      <td>Great -- no comments!</td>\n",
       "      <td>162</td>\n",
       "      <td>215</td>\n",
       "      <td>2020-06-05 23:01:14.616412+00:00</td>\n",
       "      <td>2020-06-05 23:01:14.616412+00:00</td>\n",
       "      <td>False</td>\n",
       "      <td>2</td>\n",
       "      <td>4</td>\n",
       "      <td>4</td>\n",
       "      <td>2</td>\n",
       "      <td>2</td>\n",
       "    </tr>\n",
       "    <tr>\n",
       "      <th>3</th>\n",
       "      <td>206</td>\n",
       "      <td>Great -- no comments!</td>\n",
       "      <td>162</td>\n",
       "      <td>198</td>\n",
       "      <td>2020-06-03 23:01:14.616412+00:00</td>\n",
       "      <td>2020-06-03 23:01:14.616412+00:00</td>\n",
       "      <td>False</td>\n",
       "      <td>4</td>\n",
       "      <td>2</td>\n",
       "      <td>2</td>\n",
       "      <td>2</td>\n",
       "      <td>1</td>\n",
       "    </tr>\n",
       "    <tr>\n",
       "      <th>4</th>\n",
       "      <td>204</td>\n",
       "      <td>Great -- no comments!</td>\n",
       "      <td>162</td>\n",
       "      <td>197</td>\n",
       "      <td>2020-06-05 23:01:14.616412+00:00</td>\n",
       "      <td>2020-06-05 23:01:14.616412+00:00</td>\n",
       "      <td>False</td>\n",
       "      <td>4</td>\n",
       "      <td>1</td>\n",
       "      <td>4</td>\n",
       "      <td>4</td>\n",
       "      <td>4</td>\n",
       "    </tr>\n",
       "  </tbody>\n",
       "</table>\n",
       "</div>"
      ],
      "text/plain": [
       "    id                   post  video_id  owner_id  \\\n",
       "0  202  Great -- no comments!       162       216   \n",
       "1  203  Great -- no comments!       162       227   \n",
       "2  205  Great -- no comments!       162       215   \n",
       "3  206  Great -- no comments!       162       198   \n",
       "4  204  Great -- no comments!       162       197   \n",
       "\n",
       "                        created_at                       updated_at  viewed  \\\n",
       "0 2020-06-07 23:01:14.616412+00:00 2020-06-07 23:01:14.616412+00:00   False   \n",
       "1 2020-06-10 23:01:14.616412+00:00 2020-06-10 23:01:14.616412+00:00   False   \n",
       "2 2020-06-05 23:01:14.616412+00:00 2020-06-05 23:01:14.616412+00:00   False   \n",
       "3 2020-06-03 23:01:14.616412+00:00 2020-06-03 23:01:14.616412+00:00   False   \n",
       "4 2020-06-05 23:01:14.616412+00:00 2020-06-05 23:01:14.616412+00:00   False   \n",
       "\n",
       "   overall_performance  delivery_and_presentation  response_quality  \\\n",
       "0                    3                          4                 2   \n",
       "1                    4                          4                 4   \n",
       "2                    2                          4                 4   \n",
       "3                    4                          2                 2   \n",
       "4                    4                          1                 4   \n",
       "\n",
       "   audio_quality  visual_environment  \n",
       "0              3                   2  \n",
       "1              3                   2  \n",
       "2              2                   2  \n",
       "3              2                   1  \n",
       "4              4                   4  "
      ]
     },
     "execution_count": 149,
     "metadata": {},
     "output_type": "execute_result"
    }
   ],
   "source": [
    "human_feedback_for_video"
   ]
  },
  {
   "cell_type": "code",
   "execution_count": 150,
   "metadata": {},
   "outputs": [
    {
     "data": {
      "text/plain": [
       "(3.4, 3.0, 3.2, 2.8, 2.2)"
      ]
     },
     "execution_count": 150,
     "metadata": {},
     "output_type": "execute_result"
    }
   ],
   "source": [
    "human_overall_performance, human_delivery_and_presentation, human_response_quality, human_audio_quality, human_visual_environment"
   ]
  },
  {
   "cell_type": "code",
   "execution_count": 151,
   "metadata": {},
   "outputs": [],
   "source": [
    "# Set values:\n",
    "video_id = video_id\n",
    "overall_performance = np.random.uniform(0, 5)  # [?? To do: REMOVE this ??]\n",
    "delivery_and_presentation = 0\n",
    "response_quality = human_response_quality\n",
    "audio_quality = 0\n",
    "visual_environment = 0\n",
    "attitude = 0\n",
    "sentiment_visual = sentiment_visual\n",
    "sentiment_visual_details = sentiment_visual_details\n",
    "sentiment_audio = sentiment_audio\n",
    "sentiment_audio_details = sentiment_audio_details\n",
    "speaking_confidence = 0\n",
    "speaking_volume = 0\n",
    "speaking_vocabulary = 0\n",
    "speaking_speed = speaking_speed\n",
    "speaking_filler_words = 0\n",
    "background_visual_environment = 0\n",
    "background_noise = background_noise\n",
    "appearance_facial_centering = appearance_facial_centering\n",
    "appearance_posture = 0\n",
    "appearance_gesticulation = 0\n",
    "human_overall_performance = human_overall_performance\n",
    "human_delivery_and_presentation = human_delivery_and_presentation\n",
    "human_response_quality = human_response_quality\n",
    "human_audio_quality = human_audio_quality\n",
    "human_visual_environment = human_visual_environment"
   ]
  },
  {
   "cell_type": "code",
   "execution_count": 152,
   "metadata": {},
   "outputs": [],
   "source": [
    "# Dictionary of values to insert --> these values go into our SQL queries below:\n",
    "values_to_insert = {\n",
    "    'video_id': video_id, \n",
    "    'overall_performance': overall_performance, \n",
    "    'delivery_and_presentation': delivery_and_presentation, \n",
    "    'response_quality': response_quality, \n",
    "    'audio_quality': audio_quality, \n",
    "    'visual_environment': visual_environment, \n",
    "    'attitude': attitude, \n",
    "    'sentiment_visual': sentiment_visual, \n",
    "    'sentiment_visual_details': sentiment_visual_details, \n",
    "    'sentiment_audio': sentiment_audio, \n",
    "    'sentiment_audio_details': sentiment_audio_details, \n",
    "    'speaking_confidence': speaking_confidence, \n",
    "    'speaking_volume': speaking_volume, \n",
    "    'speaking_vocabulary': speaking_vocabulary, \n",
    "    'speaking_speed': speaking_speed, \n",
    "    'speaking_filler_words': speaking_filler_words, \n",
    "    'background_visual_environment': background_visual_environment, \n",
    "    'background_noise': background_noise, \n",
    "    'appearance_facial_centering': appearance_facial_centering, \n",
    "    'appearance_posture': appearance_posture, \n",
    "    'appearance_gesticulation': appearance_gesticulation, \n",
    "    'human_overall_performance': human_overall_performance, \n",
    "    'human_delivery_and_presentation': human_delivery_and_presentation, \n",
    "    'human_response_quality': human_response_quality, \n",
    "    'human_audio_quality': human_audio_quality, \n",
    "    'human_visual_environment': human_visual_environment\n",
    "}"
   ]
  },
  {
   "cell_type": "code",
   "execution_count": 153,
   "metadata": {},
   "outputs": [
    {
     "name": "stdout",
     "output_type": "stream",
     "text": [
      "yes, update it in videos_feedback table\n"
     ]
    }
   ],
   "source": [
    "# Check if record for this video exists in the videos_feedback table yet, \n",
    "# and UPDATE or CREATE the record accordingly:\n",
    "query = f\"SELECT EXISTS (SELECT * FROM videos_feedback WHERE video_id = {video_id})\"\n",
    "pg_cursor.execute(query)\n",
    "exists_in_vf_table = pg_cursor.fetchall()[0][0]\n",
    "\n",
    "if exists_in_vf_table:\n",
    "    print('yes, update it in videos_feedback table')  # [?? To do: REMOVE this ??]\n",
    "    # Update record in videos_feedback table:\n",
    "    pg_cursor.execute(\n",
    "        \"\"\"\n",
    "        UPDATE videos_feedback \n",
    "        SET \n",
    "            overall_performance = %(overall_performance)s, \n",
    "            delivery_and_presentation = %(delivery_and_presentation)s, \n",
    "            response_quality = %(response_quality)s, \n",
    "            audio_quality = %(audio_quality)s, \n",
    "            visual_environment = %(visual_environment)s, \n",
    "            attitude = %(attitude)s, \n",
    "            sentiment_visual = %(sentiment_visual)s, \n",
    "            sentiment_visual_details = %(sentiment_visual_details)s, \n",
    "            sentiment_audio = %(sentiment_audio)s, \n",
    "            sentiment_audio_details = %(sentiment_audio_details)s, \n",
    "            speaking_confidence = %(speaking_confidence)s, \n",
    "            speaking_volume = %(speaking_volume)s, \n",
    "            speaking_vocabulary = %(speaking_vocabulary)s, \n",
    "            speaking_speed = %(speaking_speed)s, \n",
    "            speaking_filler_words = %(speaking_filler_words)s, \n",
    "            background_visual_environment = %(background_visual_environment)s, \n",
    "            background_noise = %(background_noise)s, \n",
    "            appearance_facial_centering = %(appearance_facial_centering)s, \n",
    "            appearance_posture = %(appearance_posture)s, \n",
    "            appearance_gesticulation = %(appearance_gesticulation)s, \n",
    "            human_overall_performance = %(human_overall_performance)s, \n",
    "            human_delivery_and_presentation = %(human_delivery_and_presentation)s, \n",
    "            human_response_quality = %(human_response_quality)s, \n",
    "            human_audio_quality = %(human_audio_quality)s, \n",
    "            human_visual_environment = %(human_visual_environment)s\n",
    "        WHERE video_id = %(video_id)s\n",
    "        \"\"\", \n",
    "        values_to_insert\n",
    "    )\n",
    "else:\n",
    "    print('no, insert into videos_feedback table')  # [?? To do: REMOVE this ??]\n",
    "    # Create record in videos_feedback table:\n",
    "    pg_cursor.execute(\n",
    "        \"\"\"\n",
    "        INSERT INTO videos_feedback(??) \n",
    "        VALUES (%(overall_performance)s, \n",
    "                %(delivery_and_presentation)s, \n",
    "                %(response_quality)s, \n",
    "                %(audio_quality)s, \n",
    "                %(visual_environment)s, \n",
    "                %(attitude)s, \n",
    "                %(sentiment_visual)s, \n",
    "                %(sentiment_visual_details)s, \n",
    "                %(sentiment_audio)s, \n",
    "                %(sentiment_audio_details)s, \n",
    "                %(speaking_confidence)s, \n",
    "                %(speaking_volume)s, \n",
    "                %(speaking_vocabulary)s, \n",
    "                %(speaking_speed)s, \n",
    "                %(speaking_filler_words)s, \n",
    "                %(background_visual_environment)s, \n",
    "                %(background_noise)s, \n",
    "                %(appearance_facial_centering)s, \n",
    "                %(appearance_posture)s, \n",
    "                %(appearance_gesticulation)s, \n",
    "                %(human_overall_performance)s, \n",
    "                %(human_delivery_and_presentation)s, \n",
    "                %(human_response_quality)s, \n",
    "                %(human_audio_quality)s, \n",
    "                %(human_visual_environment)s\n",
    "                ) \n",
    "        WHERE video_id = %(video_id)s\n",
    "        \"\"\", \n",
    "    values_to_insert\n",
    "    )\n",
    "\n",
    "pg_conn.commit()"
   ]
  },
  {
   "cell_type": "code",
   "execution_count": 154,
   "metadata": {},
   "outputs": [
    {
     "data": {
      "text/html": [
       "<div>\n",
       "<style scoped>\n",
       "    .dataframe tbody tr th:only-of-type {\n",
       "        vertical-align: middle;\n",
       "    }\n",
       "\n",
       "    .dataframe tbody tr th {\n",
       "        vertical-align: top;\n",
       "    }\n",
       "\n",
       "    .dataframe thead th {\n",
       "        text-align: right;\n",
       "    }\n",
       "</style>\n",
       "<table border=\"1\" class=\"dataframe\">\n",
       "  <thead>\n",
       "    <tr style=\"text-align: right;\">\n",
       "      <th></th>\n",
       "      <th>id</th>\n",
       "      <th>video_id</th>\n",
       "      <th>overall_performance</th>\n",
       "      <th>delivery_and_presentation</th>\n",
       "      <th>response_quality</th>\n",
       "      <th>audio_quality</th>\n",
       "      <th>visual_environment</th>\n",
       "      <th>attitude</th>\n",
       "      <th>sentiment_visual</th>\n",
       "      <th>sentiment_visual_details</th>\n",
       "      <th>...</th>\n",
       "      <th>background_visual_environment</th>\n",
       "      <th>background_noise</th>\n",
       "      <th>appearance_facial_centering</th>\n",
       "      <th>appearance_posture</th>\n",
       "      <th>appearance_gesticulation</th>\n",
       "      <th>human_overall_performance</th>\n",
       "      <th>human_delivery_and_presentation</th>\n",
       "      <th>human_response_quality</th>\n",
       "      <th>human_audio_quality</th>\n",
       "      <th>human_visual_environment</th>\n",
       "    </tr>\n",
       "  </thead>\n",
       "  <tbody>\n",
       "    <tr>\n",
       "      <th>0</th>\n",
       "      <td>22</td>\n",
       "      <td>162</td>\n",
       "      <td>1.106</td>\n",
       "      <td>0.000</td>\n",
       "      <td>3.200</td>\n",
       "      <td>0.000</td>\n",
       "      <td>0.000</td>\n",
       "      <td>0.000</td>\n",
       "      <td>1.752</td>\n",
       "      <td>{'emotions': {'sad': 0.4816375482887931, 'calm...</td>\n",
       "      <td>...</td>\n",
       "      <td>0.000</td>\n",
       "      <td>1.378</td>\n",
       "      <td>3.377</td>\n",
       "      <td>0.000</td>\n",
       "      <td>0.000</td>\n",
       "      <td>3.400</td>\n",
       "      <td>3.000</td>\n",
       "      <td>3.200</td>\n",
       "      <td>2.800</td>\n",
       "      <td>2.200</td>\n",
       "    </tr>\n",
       "  </tbody>\n",
       "</table>\n",
       "<p>1 rows × 27 columns</p>\n",
       "</div>"
      ],
      "text/plain": [
       "   id  video_id overall_performance delivery_and_presentation  \\\n",
       "0  22       162               1.106                     0.000   \n",
       "\n",
       "  response_quality audio_quality visual_environment attitude sentiment_visual  \\\n",
       "0            3.200         0.000              0.000    0.000            1.752   \n",
       "\n",
       "                            sentiment_visual_details  ...  \\\n",
       "0  {'emotions': {'sad': 0.4816375482887931, 'calm...  ...   \n",
       "\n",
       "  background_visual_environment background_noise appearance_facial_centering  \\\n",
       "0                         0.000            1.378                       3.377   \n",
       "\n",
       "  appearance_posture appearance_gesticulation human_overall_performance  \\\n",
       "0              0.000                    0.000                     3.400   \n",
       "\n",
       "  human_delivery_and_presentation human_response_quality human_audio_quality  \\\n",
       "0                           3.000                  3.200               2.800   \n",
       "\n",
       "  human_visual_environment  \n",
       "0                    2.200  \n",
       "\n",
       "[1 rows x 27 columns]"
      ]
     },
     "execution_count": 154,
     "metadata": {},
     "output_type": "execute_result"
    }
   ],
   "source": [
    "query = f\"SELECT * FROM videos_feedback WHERE video_id = {video_id}\"\n",
    "pg_cursor.execute(query)\n",
    "results = pg_cursor.fetchall()\n",
    "column_names = [column_name[0] for column_name in pg_cursor.description]\n",
    "feedback_dataframe = pd.DataFrame(data=results, columns=column_names)\n",
    "feedback_dataframe"
   ]
  },
  {
   "cell_type": "code",
   "execution_count": null,
   "metadata": {},
   "outputs": [],
   "source": []
  },
  {
   "cell_type": "code",
   "execution_count": null,
   "metadata": {},
   "outputs": [],
   "source": []
  },
  {
   "cell_type": "code",
   "execution_count": null,
   "metadata": {},
   "outputs": [],
   "source": []
  },
  {
   "cell_type": "code",
   "execution_count": 5,
   "metadata": {},
   "outputs": [
    {
     "data": {
      "text/plain": [
       "['id',\n",
       " 'video_id',\n",
       " 'overall_performance',\n",
       " 'delivery_and_presentation',\n",
       " 'response_quality',\n",
       " 'audio_quality',\n",
       " 'visual_environment',\n",
       " 'attitude',\n",
       " 'sentiment_visual',\n",
       " 'sentiment_visual_details',\n",
       " 'sentiment_audio',\n",
       " 'sentiment_audio_details',\n",
       " 'speaking_confidence',\n",
       " 'speaking_volume',\n",
       " 'speaking_vocabulary',\n",
       " 'speaking_speed',\n",
       " 'speaking_filler_words',\n",
       " 'background_visual_environment',\n",
       " 'background_noise',\n",
       " 'appearance_facial_centering',\n",
       " 'appearance_posture',\n",
       " 'appearance_gesticulation',\n",
       " 'human_overall_performance',\n",
       " 'human_delivery_and_presentation',\n",
       " 'human_response_quality',\n",
       " 'human_audio_quality',\n",
       " 'human_visual_environment']"
      ]
     },
     "execution_count": 5,
     "metadata": {},
     "output_type": "execute_result"
    }
   ],
   "source": [
    "column_names"
   ]
  },
  {
   "cell_type": "code",
   "execution_count": null,
   "metadata": {},
   "outputs": [],
   "source": [
    "['video_id',\n",
    " 'overall_performance',\n",
    " 'delivery_and_presentation',\n",
    " 'response_quality',\n",
    " 'audio_quality',\n",
    " 'visual_environment',\n",
    " 'attitude',\n",
    " 'sentiment_visual',\n",
    " 'sentiment_visual_details',\n",
    " 'sentiment_audio',\n",
    " 'sentiment_audio_details',\n",
    " 'speaking_confidence',\n",
    " 'speaking_volume',\n",
    " 'speaking_vocabulary',\n",
    " 'speaking_speed',\n",
    " 'speaking_filler_words',\n",
    " 'background_visual_environment',\n",
    " 'background_noise',\n",
    " 'appearance_facial_centering',\n",
    " 'appearance_posture',\n",
    " 'appearance_gesticulation',\n",
    " 'human_overall_performance',\n",
    " 'human_delivery_and_presentation',\n",
    " 'human_response_quality',\n",
    " 'human_audio_quality',\n",
    " 'human_visual_environment']"
   ]
  },
  {
   "cell_type": "code",
   "execution_count": null,
   "metadata": {},
   "outputs": [],
   "source": []
  },
  {
   "cell_type": "code",
   "execution_count": 2,
   "metadata": {},
   "outputs": [],
   "source": [
    "video_id = 165"
   ]
  },
  {
   "cell_type": "code",
   "execution_count": 12,
   "metadata": {},
   "outputs": [
    {
     "data": {
      "text/html": [
       "<div>\n",
       "<style scoped>\n",
       "    .dataframe tbody tr th:only-of-type {\n",
       "        vertical-align: middle;\n",
       "    }\n",
       "\n",
       "    .dataframe tbody tr th {\n",
       "        vertical-align: top;\n",
       "    }\n",
       "\n",
       "    .dataframe thead th {\n",
       "        text-align: right;\n",
       "    }\n",
       "</style>\n",
       "<table border=\"1\" class=\"dataframe\">\n",
       "  <thead>\n",
       "    <tr style=\"text-align: right;\">\n",
       "      <th></th>\n",
       "      <th>id</th>\n",
       "      <th>video_id</th>\n",
       "      <th>overall_performance</th>\n",
       "      <th>delivery_and_presentation</th>\n",
       "      <th>response_quality</th>\n",
       "      <th>audio_quality</th>\n",
       "      <th>visual_environment</th>\n",
       "      <th>attitude</th>\n",
       "      <th>sentiment_visual</th>\n",
       "      <th>sentiment_visual_details</th>\n",
       "      <th>...</th>\n",
       "      <th>background_visual_environment</th>\n",
       "      <th>background_noise</th>\n",
       "      <th>appearance_facial_centering</th>\n",
       "      <th>appearance_posture</th>\n",
       "      <th>appearance_gesticulation</th>\n",
       "      <th>human_overall_performance</th>\n",
       "      <th>human_delivery_and_presentation</th>\n",
       "      <th>human_response_quality</th>\n",
       "      <th>human_audio_quality</th>\n",
       "      <th>human_visual_environment</th>\n",
       "    </tr>\n",
       "  </thead>\n",
       "  <tbody>\n",
       "    <tr>\n",
       "      <th>0</th>\n",
       "      <td>19</td>\n",
       "      <td>165</td>\n",
       "      <td>1.906</td>\n",
       "      <td>0.000</td>\n",
       "      <td>2.500</td>\n",
       "      <td>0.000</td>\n",
       "      <td>0.000</td>\n",
       "      <td>0.000</td>\n",
       "      <td>4.827</td>\n",
       "      <td>{'emotions': {'sad': 0.4816375482887931, 'calm...</td>\n",
       "      <td>...</td>\n",
       "      <td>0.000</td>\n",
       "      <td>0.756</td>\n",
       "      <td>0.404</td>\n",
       "      <td>0.000</td>\n",
       "      <td>0.000</td>\n",
       "      <td>2.500</td>\n",
       "      <td>3.000</td>\n",
       "      <td>2.500</td>\n",
       "      <td>2.000</td>\n",
       "      <td>2.667</td>\n",
       "    </tr>\n",
       "  </tbody>\n",
       "</table>\n",
       "<p>1 rows × 27 columns</p>\n",
       "</div>"
      ],
      "text/plain": [
       "   id  video_id overall_performance delivery_and_presentation  \\\n",
       "0  19       165               1.906                     0.000   \n",
       "\n",
       "  response_quality audio_quality visual_environment attitude sentiment_visual  \\\n",
       "0            2.500         0.000              0.000    0.000            4.827   \n",
       "\n",
       "                            sentiment_visual_details  ...  \\\n",
       "0  {'emotions': {'sad': 0.4816375482887931, 'calm...  ...   \n",
       "\n",
       "  background_visual_environment background_noise appearance_facial_centering  \\\n",
       "0                         0.000            0.756                       0.404   \n",
       "\n",
       "  appearance_posture appearance_gesticulation human_overall_performance  \\\n",
       "0              0.000                    0.000                     2.500   \n",
       "\n",
       "  human_delivery_and_presentation human_response_quality human_audio_quality  \\\n",
       "0                           3.000                  2.500               2.000   \n",
       "\n",
       "  human_visual_environment  \n",
       "0                    2.667  \n",
       "\n",
       "[1 rows x 27 columns]"
      ]
     },
     "execution_count": 12,
     "metadata": {},
     "output_type": "execute_result"
    }
   ],
   "source": [
    "query = f\"SELECT * FROM videos_feedback WHERE video_id = {video_id}\"\n",
    "pg_cursor.execute(query)\n",
    "results = pg_cursor.fetchall()\n",
    "column_names = [column_name[0] for column_name in pg_cursor.description]\n",
    "feedback_dataframe = pd.DataFrame(data=results, columns=column_names)\n",
    "feedback_dataframe"
   ]
  },
  {
   "cell_type": "code",
   "execution_count": 14,
   "metadata": {},
   "outputs": [
    {
     "data": {
      "text/plain": [
       "27"
      ]
     },
     "execution_count": 14,
     "metadata": {},
     "output_type": "execute_result"
    }
   ],
   "source": [
    "len(feedback_dataframe.columns)"
   ]
  },
  {
   "cell_type": "code",
   "execution_count": null,
   "metadata": {},
   "outputs": [],
   "source": []
  },
  {
   "cell_type": "code",
   "execution_count": null,
   "metadata": {},
   "outputs": [],
   "source": []
  },
  {
   "cell_type": "code",
   "execution_count": null,
   "metadata": {},
   "outputs": [],
   "source": []
  },
  {
   "cell_type": "code",
   "execution_count": null,
   "metadata": {},
   "outputs": [],
   "source": []
  },
  {
   "cell_type": "code",
   "execution_count": null,
   "metadata": {},
   "outputs": [],
   "source": []
  },
  {
   "cell_type": "code",
   "execution_count": null,
   "metadata": {},
   "outputs": [],
   "source": []
  },
  {
   "cell_type": "code",
   "execution_count": null,
   "metadata": {},
   "outputs": [],
   "source": []
  },
  {
   "cell_type": "code",
   "execution_count": null,
   "metadata": {},
   "outputs": [],
   "source": []
  },
  {
   "cell_type": "code",
   "execution_count": null,
   "metadata": {},
   "outputs": [],
   "source": []
  },
  {
   "cell_type": "code",
   "execution_count": null,
   "metadata": {},
   "outputs": [],
   "source": []
  },
  {
   "cell_type": "code",
   "execution_count": 14,
   "metadata": {},
   "outputs": [],
   "source": [
    "video_id = 162"
   ]
  },
  {
   "cell_type": "code",
   "execution_count": 15,
   "metadata": {},
   "outputs": [
    {
     "data": {
      "text/html": [
       "<div>\n",
       "<style scoped>\n",
       "    .dataframe tbody tr th:only-of-type {\n",
       "        vertical-align: middle;\n",
       "    }\n",
       "\n",
       "    .dataframe tbody tr th {\n",
       "        vertical-align: top;\n",
       "    }\n",
       "\n",
       "    .dataframe thead th {\n",
       "        text-align: right;\n",
       "    }\n",
       "</style>\n",
       "<table border=\"1\" class=\"dataframe\">\n",
       "  <thead>\n",
       "    <tr style=\"text-align: right;\">\n",
       "      <th></th>\n",
       "      <th>id</th>\n",
       "      <th>video_id</th>\n",
       "      <th>overall_performance</th>\n",
       "      <th>delivery_and_presentation</th>\n",
       "      <th>response_quality</th>\n",
       "      <th>audio_quality</th>\n",
       "      <th>visual_environment</th>\n",
       "      <th>attitude</th>\n",
       "      <th>sentiment_visual</th>\n",
       "      <th>sentiment_visual_details</th>\n",
       "      <th>...</th>\n",
       "      <th>background_visual_environment</th>\n",
       "      <th>background_noise</th>\n",
       "      <th>appearance_facial_centering</th>\n",
       "      <th>appearance_posture</th>\n",
       "      <th>appearance_gesticulation</th>\n",
       "      <th>human_overall_performance</th>\n",
       "      <th>human_delivery_and_presentation</th>\n",
       "      <th>human_response_quality</th>\n",
       "      <th>human_audio_quality</th>\n",
       "      <th>human_visual_environment</th>\n",
       "    </tr>\n",
       "  </thead>\n",
       "  <tbody>\n",
       "    <tr>\n",
       "      <th>0</th>\n",
       "      <td>22</td>\n",
       "      <td>162</td>\n",
       "      <td>1.106</td>\n",
       "      <td>0.000</td>\n",
       "      <td>3.200</td>\n",
       "      <td>0.000</td>\n",
       "      <td>0.000</td>\n",
       "      <td>0.000</td>\n",
       "      <td>1.752</td>\n",
       "      <td>{'emotions': {'sad': 0.4816375482887931, 'calm...</td>\n",
       "      <td>...</td>\n",
       "      <td>0.000</td>\n",
       "      <td>1.378</td>\n",
       "      <td>3.377</td>\n",
       "      <td>0.000</td>\n",
       "      <td>0.000</td>\n",
       "      <td>3.400</td>\n",
       "      <td>3.000</td>\n",
       "      <td>3.200</td>\n",
       "      <td>2.800</td>\n",
       "      <td>2.200</td>\n",
       "    </tr>\n",
       "  </tbody>\n",
       "</table>\n",
       "<p>1 rows × 27 columns</p>\n",
       "</div>"
      ],
      "text/plain": [
       "   id  video_id overall_performance delivery_and_presentation  \\\n",
       "0  22       162               1.106                     0.000   \n",
       "\n",
       "  response_quality audio_quality visual_environment attitude sentiment_visual  \\\n",
       "0            3.200         0.000              0.000    0.000            1.752   \n",
       "\n",
       "                            sentiment_visual_details  ...  \\\n",
       "0  {'emotions': {'sad': 0.4816375482887931, 'calm...  ...   \n",
       "\n",
       "  background_visual_environment background_noise appearance_facial_centering  \\\n",
       "0                         0.000            1.378                       3.377   \n",
       "\n",
       "  appearance_posture appearance_gesticulation human_overall_performance  \\\n",
       "0              0.000                    0.000                     3.400   \n",
       "\n",
       "  human_delivery_and_presentation human_response_quality human_audio_quality  \\\n",
       "0                           3.000                  3.200               2.800   \n",
       "\n",
       "  human_visual_environment  \n",
       "0                    2.200  \n",
       "\n",
       "[1 rows x 27 columns]"
      ]
     },
     "execution_count": 15,
     "metadata": {},
     "output_type": "execute_result"
    }
   ],
   "source": [
    "pg_cursor.execute(f\"SELECT * FROM videos_feedback WHERE video_id = {video_id}\")\n",
    "results = pg_cursor.fetchall()\n",
    "column_names = [column_name[0] for column_name in pg_cursor.description]\n",
    "feedback_dataframe = pd.DataFrame(data=results, columns=column_names)\n",
    "feedback_dataframe"
   ]
  },
  {
   "cell_type": "code",
   "execution_count": 16,
   "metadata": {},
   "outputs": [
    {
     "data": {
      "text/html": [
       "<div>\n",
       "<style scoped>\n",
       "    .dataframe tbody tr th:only-of-type {\n",
       "        vertical-align: middle;\n",
       "    }\n",
       "\n",
       "    .dataframe tbody tr th {\n",
       "        vertical-align: top;\n",
       "    }\n",
       "\n",
       "    .dataframe thead th {\n",
       "        text-align: right;\n",
       "    }\n",
       "</style>\n",
       "<table border=\"1\" class=\"dataframe\">\n",
       "  <thead>\n",
       "    <tr style=\"text-align: right;\">\n",
       "      <th></th>\n",
       "      <th>id</th>\n",
       "      <th>owner_id</th>\n",
       "      <th>title</th>\n",
       "      <th>description</th>\n",
       "      <th>created_at</th>\n",
       "      <th>updated_at</th>\n",
       "      <th>video_url</th>\n",
       "      <th>prompt_id</th>\n",
       "      <th>thumbnail</th>\n",
       "    </tr>\n",
       "  </thead>\n",
       "  <tbody>\n",
       "    <tr>\n",
       "      <th>0</th>\n",
       "      <td>162</td>\n",
       "      <td>201</td>\n",
       "      <td>DS testing 001</td>\n",
       "      <td>DS test! 001</td>\n",
       "      <td>2020-06-08 21:46:43.703000+00:00</td>\n",
       "      <td>2020-06-08 21:46:43.703000+00:00</td>\n",
       "      <td>videos/ALPACAVID-Ut18n8aEt.mp4</td>\n",
       "      <td>85</td>\n",
       "      <td>None</td>\n",
       "    </tr>\n",
       "  </tbody>\n",
       "</table>\n",
       "</div>"
      ],
      "text/plain": [
       "    id  owner_id           title   description  \\\n",
       "0  162       201  DS testing 001  DS test! 001   \n",
       "\n",
       "                        created_at                       updated_at  \\\n",
       "0 2020-06-08 21:46:43.703000+00:00 2020-06-08 21:46:43.703000+00:00   \n",
       "\n",
       "                        video_url  prompt_id thumbnail  \n",
       "0  videos/ALPACAVID-Ut18n8aEt.mp4         85      None  "
      ]
     },
     "execution_count": 16,
     "metadata": {},
     "output_type": "execute_result"
    }
   ],
   "source": [
    "pg_cursor.execute(f\"SELECT * FROM videos WHERE id = {video_id}\")\n",
    "results = pg_cursor.fetchall()\n",
    "column_names = [column_name[0] for column_name in pg_cursor.description]\n",
    "feedback_dataframe = pd.DataFrame(data=results, columns=column_names)\n",
    "feedback_dataframe"
   ]
  },
  {
   "cell_type": "code",
   "execution_count": null,
   "metadata": {},
   "outputs": [],
   "source": []
  }
 ],
 "metadata": {
  "colab": {
   "collapsed_sections": [],
   "name": "Team Reel Master Function -- FIRST DRAFT.ipynb",
   "provenance": []
  },
  "kernelspec": {
   "display_name": "Python 3",
   "language": "python",
   "name": "python3"
  },
  "language_info": {
   "codemirror_mode": {
    "name": "ipython",
    "version": 3
   },
   "file_extension": ".py",
   "mimetype": "text/x-python",
   "name": "python",
   "nbconvert_exporter": "python",
   "pygments_lexer": "ipython3",
   "version": "3.7.6"
  }
 },
 "nbformat": 4,
 "nbformat_minor": 4
}
